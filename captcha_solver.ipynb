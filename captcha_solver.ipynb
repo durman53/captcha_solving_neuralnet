{
  "nbformat": 4,
  "nbformat_minor": 0,
  "metadata": {
    "colab": {
      "name": "capcha_solver.ipynb",
      "provenance": [],
      "collapsed_sections": []
    },
    "kernelspec": {
      "name": "python3",
      "display_name": "Python 3"
    },
    "language_info": {
      "name": "python"
    }
  },
  "cells": [
    {
      "cell_type": "markdown",
      "source": [
        "# **Training model**"
      ],
      "metadata": {
        "id": "LfPMMglZTZpB"
      }
    },
    {
      "cell_type": "markdown",
      "source": [
        "import required moduls"
      ],
      "metadata": {
        "id": "H67leeIGTi2n"
      }
    },
    {
      "cell_type": "code",
      "execution_count": 1,
      "metadata": {
        "id": "I6kK95mESFWt"
      },
      "outputs": [],
      "source": [
        "import numpy as np\n",
        "import cv2 as cv\n",
        "import os\n",
        "\n",
        "from tensorflow.keras.layers import *\n",
        "from tensorflow.keras.models import *"
      ]
    },
    {
      "cell_type": "markdown",
      "source": [
        "get dataset path and classes"
      ],
      "metadata": {
        "id": "dyVFsR8wTyOr"
      }
    },
    {
      "cell_type": "code",
      "source": [
        "path = 'Photos/'\n",
        "\n",
        "data = []\n",
        "target = []\n",
        "List = os.listdir(path)"
      ],
      "metadata": {
        "id": "ZBIalJQcSQP7"
      },
      "execution_count": 4,
      "outputs": []
    },
    {
      "cell_type": "markdown",
      "source": [
        "Read all images from dataset folder"
      ],
      "metadata": {
        "id": "pq0WMgbrUBCb"
      }
    },
    {
      "cell_type": "code",
      "source": [
        "for folder in List:\n",
        "    for file in os.listdir(path+folder):\n",
        "        img = cv.imread(os.path.join(path+folder, file))\n",
        "        data.append(img/255)\n",
        "        target.append(List.index(folder))"
      ],
      "metadata": {
        "id": "zitP2q6CS5Tc"
      },
      "execution_count": null,
      "outputs": []
    },
    {
      "cell_type": "markdown",
      "source": [
        "Convert list type to numpy.array type to train neural net"
      ],
      "metadata": {
        "id": "v6DlLBfQUMcN"
      }
    },
    {
      "cell_type": "code",
      "source": [
        "data = np.array(data)\n",
        "target = np.array(target, dtype=int)"
      ],
      "metadata": {
        "id": "ADaVf6XvS8QX"
      },
      "execution_count": null,
      "outputs": []
    },
    {
      "cell_type": "markdown",
      "source": [
        "Implement simple CNN classifier model."
      ],
      "metadata": {
        "id": "2wJkm_bDUU1i"
      }
    },
    {
      "cell_type": "code",
      "source": [
        "model = Sequential([\n",
        "    Conv2D(64, (3, 3), activation='relu', input_shape=(113, 113, 3)),\n",
        "    MaxPooling2D((2, 2)),\n",
        "    Conv2D(128, (3, 3), activation='relu'),\n",
        "    MaxPooling2D((2, 2)),\n",
        "    Conv2D(128, (3, 3), activation='relu'),\n",
        "    Flatten(),\n",
        "    Dense(128, activation='relu'),\n",
        "    Dropout(0.5),\n",
        "    Dense(9, activation='softmax')\n",
        "])\n",
        "model.compile(optimizer='adam', loss='sparse_categorical_crossentropy', metrics='accuracy')"
      ],
      "metadata": {
        "id": "-Ndugde5TAUG"
      },
      "execution_count": null,
      "outputs": []
    },
    {
      "cell_type": "markdown",
      "source": [
        "Fit model on 2500 image samples with 100 epochs.\n",
        "For me it took 7 minute to train this model with GTX1050ti with 4gb VRAM."
      ],
      "metadata": {
        "id": "XqnKuwBqUlbb"
      }
    },
    {
      "cell_type": "code",
      "source": [
        "model.fit(data, target, epochs=100, batch_size=50, verbose=1)\n",
        "model.save('model.h5')"
      ],
      "metadata": {
        "id": "s5HwXF6oTBaV"
      },
      "execution_count": null,
      "outputs": []
    },
    {
      "cell_type": "markdown",
      "source": [
        "# Testing trained model"
      ],
      "metadata": {
        "id": "qg0wNF73VBHt"
      }
    },
    {
      "cell_type": "code",
      "source": [
        "import numpy as np\n",
        "import cv2 as cv\n",
        "from tensorflow.keras.models import load_model"
      ],
      "metadata": {
        "id": "7MBrmdj-TIYt"
      },
      "execution_count": null,
      "outputs": []
    },
    {
      "cell_type": "markdown",
      "source": [
        "Make classes list and get image path from user."
      ],
      "metadata": {
        "id": "7GZkeJWEVG1q"
      }
    },
    {
      "cell_type": "code",
      "source": [
        "List = ['airplane', 'bicycle', 'boat', 'car',\n",
        "        'motorbus', 'motorcycle', 'seaplane',\n",
        "        'train', 'truck']\n",
        "img_path = input('image path: ')"
      ],
      "metadata": {
        "id": "vDlbqmkbTJJM"
      },
      "execution_count": null,
      "outputs": []
    },
    {
      "cell_type": "markdown",
      "source": [
        "Read image as dataset."
      ],
      "metadata": {
        "id": "0DuH0_kJVRAM"
      }
    },
    {
      "cell_type": "code",
      "source": [
        "data = []\n",
        "img = cv.imread(img_path)\n",
        "img = cv.resize(img, (113, 113))\n",
        "data.append(img/255)\n",
        "data = np.array(data)"
      ],
      "metadata": {
        "id": "pfpI3bPeTMEt"
      },
      "execution_count": null,
      "outputs": []
    },
    {
      "cell_type": "markdown",
      "source": [
        "Load pretrained model."
      ],
      "metadata": {
        "id": "Hq0Kz3CHVVT2"
      }
    },
    {
      "cell_type": "code",
      "source": [
        "model = load_model('model.h5')"
      ],
      "metadata": {
        "id": "-I7MjUfFTO36"
      },
      "execution_count": null,
      "outputs": []
    },
    {
      "cell_type": "markdown",
      "source": [
        "Get predictions and show results."
      ],
      "metadata": {
        "id": "wXtcT2b9VY7n"
      }
    },
    {
      "cell_type": "code",
      "source": [
        "pred = model.predict(data)\n",
        "print(f'Predicted class for image is {pred[0][np.argmax(pred[0])]*100:.2f}% {List[np.argmax(pred[0])]}')\n",
        "cv.imshow('image', img)"
      ],
      "metadata": {
        "id": "_Wc4VYiVTSvm"
      },
      "execution_count": null,
      "outputs": []
    }
  ]
}